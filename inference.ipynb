{
 "cells": [
  {
   "cell_type": "code",
   "execution_count": 10,
   "metadata": {},
   "outputs": [
    {
     "name": "stdout",
     "output_type": "stream",
     "text": [
      "Zawgyi : အတိတ္ရဲ႕ ေျခရာ တခ်ိဳ႕သည္ ကြၽန္ုပ္တို႔၏ အနာဂတ္အား သက္ေရာက္ေစ၏။\n",
      "ျပင္ဆင္ခြင့္ မရေသာ ေၾကာက္စရာ အေကာင္းဆုံး ၀ဋ္ေႂကြး ဆိုသည္က အတိတ္တစ္ေဆ နိုးထေျခာက္လွန့္ ခံေနရျခင္းပင္တည္း။ \n",
      "ထိုေၾကာင့္ ရိုးေျဖာင့္ေသာ ပစၥဳပၸန္မ်ားျဖစ္သာ အတိတ္ေကာင္းမ်ားကို ေမြးျမဴၾကပါစို႔။\n",
      "\n",
      "Unicode : အတိတ်ရဲ့ ခြေရာ တချို့သည် ကျွန်ုပ်တို့၏ အနာဂတ်အား သက်ရောက်စေ၏။\n",
      "ပြင်ဆင်ခွင့် မရသော ကြောက်စရာ အကောင်းဆုံး ၀ဋ်ကြွေး ဆိုသည်က အတိတ်တစ်ဆေ နိုးထခြောက်လှန့် ခံနေရခြင်းပင်တည်း။ \n",
      "ထိုကြောင့် ရိုးဖြောင့်သော ပစ္စုပ္ပန်များဖြစ်သာ အတိတ်ကောင်းများကို မွေးမြူကြပါစို့။\n"
     ]
    }
   ],
   "source": [
    "from Converter import MIGCvt as cvt\n",
    "\n",
    "uni_text = '''အတိတ်ရဲ့ ခြေရာ တချို့သည် ကျွန်ုပ်တို့၏ အနာဂတ်အား သက်ရောက်စေ၏။\n",
    "ပြင်ဆင်ခွင့် မရသော ကြောက်စရာ အကောင်းဆုံး ၀ဋ်ကြွေး ဆိုသည်က အတိတ်တစ္ဆေ နိုးထခြောက်လှန့် ခံနေရခြင်းပင်တည်း။ \n",
    "ထိုကြောင့် ရိုးဖြောင့်သော ပစ္စုပ္ပန်များဖြစ်သာ အတိတ်ကောင်းများကို မွေးမြူကြပါစို့။'''\n",
    "\n",
    "zg = cvt.uni2zg(uni_text)\n",
    "print(f\"Zawgyi : {zg}\")\n",
    "\n",
    "uni = cvt.zg2uni(zg)\n",
    "print(f\"\\nUnicode : {uni}\")"
   ]
  },
  {
   "cell_type": "code",
   "execution_count": null,
   "metadata": {},
   "outputs": [],
   "source": [
    "from Converter import MIGCvt as cvt\n",
    "\n",
    "uni_text = '''ပျော်ရွှင်ချင်ရင် အတွေးတွေကို ဂရုစိုက်ရတယ်ဗျ။\n",
    "အတွေးတွေကြောင့်သာ သက်မဲ့များသည် ကျွန်တော်တို့ဘ၀ရဲ့ အရေးကြီးတဲ့ အခန်းကဏ္ဍ ဆီသို့ ၀င်ရောက်လာကြတယ်။ \n",
    "ဘ၀ပျက်တယ် ဆိုခြင်းက သက်မဲ့များမှ သက်ရှိကို နိုင်သွားခြင်းပင်တည်း။'''\n",
    "\n",
    "zg = cvt.uni2zg(uni_text)\n",
    "print(f\"Zawgyi : {zg}\")\n",
    "\n",
    "uni = cvt.zg2uni(zg)\n",
    "print(f\"\\nUnicode : {uni}\")"
   ]
  }
 ],
 "metadata": {
  "kernelspec": {
   "display_name": "MyEnv",
   "language": "python",
   "name": "python3"
  },
  "language_info": {
   "codemirror_mode": {
    "name": "ipython",
    "version": 3
   },
   "file_extension": ".py",
   "mimetype": "text/x-python",
   "name": "python",
   "nbconvert_exporter": "python",
   "pygments_lexer": "ipython3",
   "version": "3.10.11"
  }
 },
 "nbformat": 4,
 "nbformat_minor": 2
}
